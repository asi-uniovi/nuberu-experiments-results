{
 "cells": [
  {
   "cell_type": "markdown",
   "id": "f94439e7",
   "metadata": {},
   "source": [
    "# Nuberu experimental results"
   ]
  },
  {
   "cell_type": "markdown",
   "id": "16e8c629",
   "metadata": {},
   "source": [
    "## Reading data"
   ]
  },
  {
   "cell_type": "code",
   "execution_count": null,
   "id": "18c07804",
   "metadata": {},
   "outputs": [],
   "source": [
    "data_file = \"../nuberu-starter-lab/notebooks/all_requests_data.parquet\""
   ]
  },
  {
   "cell_type": "code",
   "execution_count": null,
   "id": "457a5519",
   "metadata": {},
   "outputs": [],
   "source": [
    "import pandas as pd\n",
    "data = pd.read_parquet(data_file)\n",
    "data['injected'] = pd.to_datetime(data['injected'], unit='s', origin='2025-06-24 09:00:00')"
   ]
  },
  {
   "cell_type": "markdown",
   "id": "f36a3fce",
   "metadata": {},
   "source": [
    "## Summary of results\n",
    "\n"
   ]
  },
  {
   "cell_type": "code",
   "execution_count": null,
   "id": "1d94e4b8",
   "metadata": {},
   "outputs": [],
   "source": [
    "# Compute the percentage of finished requests for each app\n",
    "percentage_pivot = data.pivot_table(\n",
    "    index=['queue_size', 'termination', 'LB', 'distribution'],\n",
    "    columns='app', \n",
    "    values='finished',\n",
    "    aggfunc=lambda x: x.sum() / len(x) * 100,\n",
    "    fill_value=0\n",
    ").round(1)\n",
    "\n",
    "# Append the cost of each experiment\n",
    "cost_summary = data.groupby(['queue_size', 'termination', 'LB', 'distribution'])['cost'].first()\n",
    "summary_with_cost = percentage_pivot.join(cost_summary)\n",
    "\n",
    "summary_with_cost"
   ]
  },
  {
   "cell_type": "markdown",
   "id": "7d6f5b9a",
   "metadata": {},
   "source": [
    "## Plots"
   ]
  },
  {
   "cell_type": "code",
   "execution_count": null,
   "id": "0cb4dabf",
   "metadata": {},
   "outputs": [],
   "source": [
    "# Setup for interactive widgets\n",
    "from ipywidgets import interact, Dropdown, HBox, VBox, Output, Button, HTML\n",
    "from IPython.display import display, clear_output, Markdown\n",
    "\n",
    "distribution_options = [\"trace\", \"poisson\"]\n",
    "termination_options = [\"hard\", \"drain\"]\n",
    "lb_options = [\"weighted\", \"simple\"]\n",
    "queue_size_options = [\"q1000\", \"q0\"]\n",
    "app_options = [\"app0\", \"app1\", None]\n",
    "plot_options = [\"per app\", \"per container\"]\n",
    "\n",
    "distribution_selector_j = Dropdown(options=distribution_options, value=\"poisson\", description=\"Distribution\")\n",
    "termination_selector_j = Dropdown(options=termination_options, value=\"hard\", description=\"Termination\")\n",
    "lb_selector_j = Dropdown(options=lb_options, value=\"weighted\", description=\"LB\")\n",
    "queue_selector_j = Dropdown(options=queue_size_options, value=\"q1000\", description=\"Q\")\n",
    "app_selector_j = Dropdown(options=app_options, value=\"app0\", description=\"App\")\n",
    "plot_selector_j = Dropdown(options=plot_options, value=\"per container\", description=\"Plot kind\")\n",
    "run_button = Button(\n",
    "    description='Run Analysis',\n",
    "    button_style='success', # 'success', 'info', 'warning', 'danger' or ''\n",
    "    tooltip='Click to run the analysis with the selected options',\n",
    "    icon='check'\n",
    ")\n",
    "\n",
    "controls = VBox([\n",
    "    HTML(value=\"<h3>Experiment Parameters</h3>\"),\n",
    "    HBox([distribution_selector_j, termination_selector_j]),\n",
    "    HBox([lb_selector_j, queue_selector_j]),\n",
    "    HTML(value=\"<h3>Analysis Options</h3>\"),\n",
    "    HBox([app_selector_j, plot_selector_j]),\n",
    "    run_button\n",
    "])\n",
    "output_area = Output()\n",
    "output_area = Output()\n",
    "# Functions for selecting data and creating plots\n",
    "def filter_data(data_df, experiment=None):\n",
    "    if experiment is not None:\n",
    "        data_df = data_df[data_df[\"experiment\"] == experiment]\n",
    "    return data_df\n",
    "\n",
    "def select_experiment_df(data, distribution, termination, lb, queue_size):\n",
    "    selected_experiment_name = (\n",
    "        f\"{distribution}_\"\n",
    "        f\"{termination}_\"\n",
    "        f\"{lb}_\"\n",
    "        f\"{queue_size}\"\n",
    "    )\n",
    "    selected_data = filter_data(data, experiment=selected_experiment_name)\n",
    "    return selected_data\n",
    "\n",
    "# def update_dashboard(\n",
    "#     distribution,\n",
    "#     termination,\n",
    "#     lb,\n",
    "#     queue_size,\n",
    "#     app_selected, \n",
    "#     plot_kind_selected\n",
    "# ):\n",
    "#     app = app_selected\n",
    "#     plot_kind = plot_kind_selected\n",
    "\n",
    "#     if plot_kind == \"per app\":\n",
    "#         grouper = \"app\"\n",
    "#     else:\n",
    "#         grouper = \"ic-cc\"\n",
    "\n",
    "#     selected_data = select_experiment_df(data, distribution, termination, lb, queue_size)\n",
    "\n",
    "#     # # --- Aquí iría tu código de ploteo o análisis con 'selected_data_jupyter' ---\n",
    "#     # # Por ejemplo, para mostrar las primeras filas de los datos filtrados:\n",
    "#     print(f\"Experiment selected: {selected_experiment_name}\")\n",
    "#     print(f\"App selected: {app}\")\n",
    "#     print(f\"Grouper: {grouper}\")\n",
    "#     print(\"\\nFiltered Data Head:\")\n",
    "#     display(selected_data.head()) # Usamos display para mostrar DataFrames en Jupyter\n",
    "\n",
    "def on_run_button_clicked(b):\n",
    "    with output_area:\n",
    "        clear_output(wait=False)  # Limpia la salida anterior\n",
    "        _data = select_experiment_df(\n",
    "            data,\n",
    "            distribution_selector_j.value,\n",
    "            termination_selector_j.value,\n",
    "            lb_selector_j.value,\n",
    "            queue_selector_j.value\n",
    "        )\n",
    "        _data = _data[[\"injected\", \"experiment\", \"app\", \"status\", \"service_time\", \"response_time\"]].set_index(\"injected\")\n",
    "        display(_data.head())\n",
    "run_button.on_click(on_run_button_clicked)"
   ]
  },
  {
   "cell_type": "code",
   "execution_count": null,
   "id": "ca8903ee",
   "metadata": {},
   "outputs": [],
   "source": [
    "display(controls, output_area)"
   ]
  },
  {
   "cell_type": "code",
   "execution_count": null,
   "id": "16ad3070",
   "metadata": {},
   "outputs": [],
   "source": []
  }
 ],
 "metadata": {
  "kernelspec": {
   "display_name": ".venv",
   "language": "python",
   "name": "python3"
  },
  "language_info": {
   "codemirror_mode": {
    "name": "ipython",
    "version": 3
   },
   "file_extension": ".py",
   "mimetype": "text/x-python",
   "name": "python",
   "nbconvert_exporter": "python",
   "pygments_lexer": "ipython3",
   "version": "3.12.3"
  }
 },
 "nbformat": 4,
 "nbformat_minor": 5
}
